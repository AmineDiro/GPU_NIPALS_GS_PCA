{
 "cells": [
  {
   "cell_type": "code",
   "execution_count": 554,
   "metadata": {},
   "outputs": [],
   "source": [
    "# CPU "
   ]
  },
  {
   "cell_type": "code",
   "execution_count": 791,
   "metadata": {},
   "outputs": [
    {
     "name": "stdout",
     "output_type": "stream",
     "text": [
      "The autoreload extension is already loaded. To reload it, use:\n",
      "  %reload_ext autoreload\n"
     ]
    }
   ],
   "source": [
    "import numpy as np\n",
    "import matplotlib.pyplot as plt\n",
    "from nipals.NIPALS_CPU import *\n",
    "from sklearn.decomposition import PCA\n",
    "from sklearn.pipeline import Pipeline\n",
    "from sklearn.preprocessing import StandardScaler\n",
    "\n",
    "%load_ext autoreload\n",
    "%autoreload 2\n",
    "%reload_ext autoreload"
   ]
  },
  {
   "cell_type": "code",
   "execution_count": 758,
   "metadata": {},
   "outputs": [
    {
     "data": {
      "image/png": "[encoded data removed]",
      "text/plain": [
       "<Figure size 432x288 with 1 Axes>"
      ]
     },
     "metadata": {
      "needs_background": "light"
     },
     "output_type": "display_data"
    }
   ],
   "source": [
    "rng = np.random.RandomState(1)\n",
    "X = np.dot(rng.rand(2, 2), rng.randn(2, 200)).T\n",
    "plt.scatter(X[:, 0], X[:, 1])\n",
    "plt.axis('equal');"
   ]
  },
  {
   "cell_type": "code",
   "execution_count": 882,
   "metadata": {},
   "outputs": [],
   "source": [
    "X = np.random.randn(200,4)"
   ]
  },
  {
   "cell_type": "code",
   "execution_count": 883,
   "metadata": {},
   "outputs": [],
   "source": [
    "std = StandardScaler()\n",
    "X = std.fit_transform(X)"
   ]
  },
  {
   "cell_type": "code",
   "execution_count": 884,
   "metadata": {},
   "outputs": [
    {
     "name": "stdout",
     "output_type": "stream",
     "text": [
      "original shape:    (200, 4)\n",
      "transformed shape: (200, 2)\n"
     ]
    }
   ],
   "source": [
    "pca = PCA(n_components= n_components)\n",
    "pca.fit(X)\n",
    "X_pca = pca.transform(X)\n",
    "\n",
    "print(\"original shape:   \", X.shape)\n",
    "print(\"transformed shape:\", X_pca.shape)"
   ]
  },
  {
   "cell_type": "code",
   "execution_count": 896,
   "metadata": {},
   "outputs": [
    {
     "name": "stdout",
     "output_type": "stream",
     "text": [
      "At step  0\n",
      "T(h) shape :  (4,)\n",
      "P(h) shape :  (200,)\n",
      "At step  1\n",
      "T(h) shape :  (4,)\n",
      "P(h) shape :  (200,)\n",
      "Loadings P shape :  (200, 2)\n",
      "Score T= U @ S shape (4, 2)\n",
      "X transfromed shape (200, 2)\n"
     ]
    }
   ],
   "source": [
    "nips = Nipals_cpu(ncomp= n_components)\n",
    "nips.fit(X)\n",
    "\n",
    "print('Loadings P shape : ',nips.loadings.shape)\n",
    "print('Score T= U @ S shape',nips.scores.shape)\n",
    "\n",
    "X_nips=nips.transform()\n",
    "print('X transfromed shape',X_nips.shape)\n"
   ]
  },
  {
   "cell_type": "code",
   "execution_count": 897,
   "metadata": {},
   "outputs": [],
   "source": [
    "T = nips.scores\n",
    "P = nips.loadings\n",
    "eig = nips.eig"
   ]
  },
  {
   "cell_type": "code",
   "execution_count": 898,
   "metadata": {},
   "outputs": [],
   "source": [
    "np.testing.assert_almost_equal(np.abs(X_pca),np.abs(X_nips),decimal =1)\n",
    "\n",
    "np.testing.assert_almost_equal(eig.values,pca.singular_values_,decimal =1)"
   ]
  },
  {
   "cell_type": "markdown",
   "metadata": {},
   "source": [
    "---------------"
   ]
  },
  {
   "cell_type": "code",
   "execution_count": 835,
   "metadata": {},
   "outputs": [
    {
     "name": "stdout",
     "output_type": "stream",
     "text": [
      "Loadings u :  (4, 4)\n",
      "vh shape (4, 200)\n"
     ]
    },
    {
     "data": {
      "text/plain": [
       "(1, 200)"
      ]
     },
     "execution_count": 835,
     "metadata": {},
     "output_type": "execute_result"
    }
   ],
   "source": [
    "# PCA WITH SVD\n",
    "u, s, vh = np.linalg.svd(X.T,full_matrices=False)\n",
    "\n",
    "np.allclose(X.T,  u @ np.diag(s)@vh)\n",
    "\n",
    "print('Loadings u : ',u.shape)\n",
    "print('vh shape',vh.shape)\n",
    "\n",
    "# Compression k=1\n",
    "Z = u[:,:1].T @ X.T \n",
    "Z.shape"
   ]
  },
  {
   "cell_type": "markdown",
   "metadata": {},
   "source": [
    "---"
   ]
  },
  {
   "cell_type": "markdown",
   "metadata": {},
   "source": [
    "## Test Iris dataset "
   ]
  },
  {
   "cell_type": "code",
   "execution_count": 899,
   "metadata": {},
   "outputs": [],
   "source": [
    "from sklearn.datasets import load_iris\n",
    "\n",
    "iris = load_iris()\n",
    "X = iris.data\n",
    "y = iris.target\n",
    "\n",
    "std =StandardScaler()\n",
    "X= std.fit_transform(X)"
   ]
  },
  {
   "cell_type": "code",
   "execution_count": 869,
   "metadata": {},
   "outputs": [],
   "source": [
    "n_components = 2\n",
    "pca = PCA(n_components=n_components)\n",
    "X_pca = pca.fit_transform(X)"
   ]
  },
  {
   "cell_type": "code",
   "execution_count": 872,
   "metadata": {},
   "outputs": [
    {
     "name": "stdout",
     "output_type": "stream",
     "text": [
      "At step  0\n",
      "T(h) shape :  (4,)\n",
      "P(h) shape :  (150,)\n",
      "At step  1\n",
      "T(h) shape :  (4,)\n",
      "P(h) shape :  (150,)\n",
      "Loadings P shape :  (150, 2)\n",
      "Score T= U @ S shape (4, 2)\n"
     ]
    }
   ],
   "source": [
    "nips = Nipals_cpu(ncomp=n_components)\n",
    "X_nips = nips.fit_transform(X)\n",
    "\n",
    "print('Loadings P shape : ',nips.loadings.shape)\n",
    "print('Score T= U @ S shape',nips.scores.shape)"
   ]
  },
  {
   "cell_type": "code",
   "execution_count": 877,
   "metadata": {},
   "outputs": [
    {
     "data": {
      "image/png": "[encoded data removed]",
      "text/plain": [
       "<Figure size 576x576 with 1 Axes>"
      ]
     },
     "metadata": {
      "needs_background": "light"
     },
     "output_type": "display_data"
    },
    {
     "data": {
      "image/png": "[encoded data removed]",
      "text/plain": [
       "<Figure size 576x576 with 1 Axes>"
      ]
     },
     "metadata": {
      "needs_background": "light"
     },
     "output_type": "display_data"
    }
   ],
   "source": [
    "for X_transformed, title in [(X_nips, \"NIPALS PCA\"), (X_pca, \"PCA\")]:\n",
    "    plt.figure(figsize=(8, 8))\n",
    "    for color, i, target_name in zip(colors, [0, 1, 2], iris.target_names):\n",
    "        plt.scatter(X_transformed[y == i, 0], X_transformed[y == i, 1],\n",
    "                    color=color, lw=2, label=target_name)\n",
    "\n",
    "    if \"Incremental\" in title:\n",
    "        err = np.abs(np.abs(X_pca) - np.abs(X_ipca)).mean()\n",
    "        plt.title(title + \" of iris dataset\\nMean absolute unsigned error \"\n",
    "                  \"%.6f\" % err)\n",
    "    else:\n",
    "        plt.title(title + \" of iris dataset\")\n",
    "    plt.legend(loc=\"best\", shadow=False, scatterpoints=1)\n",
    "    plt.axis([-4, 4, -1.5, 1.5])\n",
    "\n",
    "plt.show()"
   ]
  },
  {
   "cell_type": "code",
   "execution_count": 878,
   "metadata": {},
   "outputs": [],
   "source": [
    "np.testing.assert_almost_equal(np.abs(X_pca),np.abs(X_nips),decimal =2)"
   ]
  },
  {
   "cell_type": "markdown",
   "metadata": {},
   "source": [
    "## GPU implementation "
   ]
  },
  {
   "cell_type": "raw",
   "metadata": {},
   "source": [
    "import pycuda.driver as cuda\n",
    "import pycuda.autoinit\n",
    "from pycuda.compiler import SourceModule\n",
    "import pycuda.gpuarray as gpuarray"
   ]
  },
  {
   "cell_type": "markdown",
   "metadata": {},
   "source": [
    "### Allocate memory \n",
    "PCA model: X = T * P’ + R\n",
    "\n",
    "* input: X, MxN matrix (data)\n",
    "* input: M = number of rows in X\n",
    "* input: N = number of columns in X\n",
    "* input: K = number of components (K<=N)\n",
    "* X = T @ P.T ( objectif)\n",
    "* output: T, MxK scores matrix\n",
    "* output: P, NxK loads matrix\n",
    "* output: R, MxN residual matrix\n"
   ]
  },
  {
   "cell_type": "code",
   "execution_count": 880,
   "metadata": {},
   "outputs": [],
   "source": [
    "M = 10\n",
    "N = 100 \n",
    "K = 2\n",
    "\n",
    "X = np.random.randn(M,N).astype(np.float32)\n",
    "P = np.empty((N,K),dtype= np.float32)\n",
    "T = np.empty((M,K),dtype= np.float32)\n",
    "#R = np.empty((M,N),dtype= np.float32)\n",
    "# eigenvalues \n",
    "E = np.empty((K,),dtype= np.float32)"
   ]
  },
  {
   "cell_type": "raw",
   "metadata": {},
   "source": [
    "T_gpu = gpuarray.to_gpu(T)\n",
    "P_gpu = gpuarray.to_gpu(P)\n",
    "X_gpu = gpuarray.to_gpu(X)\n",
    "E_gpu = gpuarray.to_gpu(E)"
   ]
  },
  {
   "cell_type": "markdown",
   "metadata": {},
   "source": [
    "**TODO** gérer les erreurs d'allocation de mémoire \n",
    "* Transpose data ( TODO mn be3d) \n",
    "* Center the data \n"
   ]
  },
  {
   "cell_type": "code",
   "execution_count": null,
   "metadata": {},
   "outputs": [],
   "source": [
    "mod = SourceModule(\"\"\"\n",
    "  __global__ void onestepcomp(float *X,float *T, float *P,float *E, int M , int N, int K)\n",
    "  {\n",
    "    while(true):\n",
    "        \n",
    "    int idx = threadIdx.x + blockIdx.x * blockDim.x;\n",
    "    if(idx < N)\n",
    "      c[idx] = a[idx] + b[idx];\n",
    "      \n",
    "    int J = 500;   \n",
    "    double tol= 1.0e-5 ;\n",
    "    \n",
    "    double a, b;\n",
    "    a = 0.0;\n",
    "    \n",
    "    for(j=0; j<J; j++) {\n",
    "    \n",
    "        ph = X.T.dot(th) / np.sum(th*th)\n",
    "        \n",
    "        cublasDgemv('t', M, N, 1.0, dR, M, &dT[k*M], 1, 0.0, &dP[k*N], 1);\n",
    "       \n",
    "        cublasDscal(N, 1.0/cublasDnrm2(N, &dP[k*N], 1), &dP[k*N], 1);\n",
    "        \n",
    "        cublasDgemv('n', M, N, 1.0, dR, M, &dP[k*N], 1, 0.0, &dT[k*M], 1);\n",
    "    \n",
    "        b = cublasDnrm2(M, &dT[k*M], 1);\n",
    "        \n",
    "        if(fabs(a - b) < er*b) break;\n",
    "        a = b;\n",
    "    }\n",
    "  }\n",
    "  \"\"\")\n",
    "prog = mod.get_function(\"add\")\n",
    "\n",
    "prog(a_gpu, b_gpu,c_gpu, np.uint32(N),block=blockDim,grid=gridDim)\n"
   ]
  },
  {
   "cell_type": "code",
   "execution_count": null,
   "metadata": {},
   "outputs": [],
   "source": [
    "import pycuda.driver as cuda\n",
    "import pycuda.autoinit\n",
    "from pycuda.compiler import SourceModule\n",
    "import pycuda.gpuarray as gpuarray\n",
    "\n",
    "import numpy as np\n",
    "\n",
    "\n",
    "N = 5\n",
    "BLOCKSIZE = 256\n",
    "\n",
    "\n",
    "blockDim = (5, 3, 1)\n",
    "gridDim = ( 1, 1, 1)\n",
    "\n",
    "\n",
    "a = np.random.randn(5,3).astype(np.float32)\n",
    "b = np.random.randn(5).astype(np.float32)\n",
    "c = np.zeros((5,3)).astype(np.float32)\n",
    "\n",
    "a_gpu = gpuarray.to_gpu(a)\n",
    "b_gpu = gpuarray.to_gpu(b)\n",
    "c_gpu = gpuarray.to_gpu(c)\n",
    "\n",
    "mod = SourceModule(\"\"\"\n",
    "      #define N 5\n",
    "    __global__ void mult(float *a, float *b, float *c)\n",
    "    {\n",
    "        int a_idx = blockIdx.x + threadIdx.x * blockDim.y;\n",
    "        \n",
    "        __shared__ float temp[N];\n",
    "        \n",
    "        temp[threadIdx] = a[a_idx] * b[threadIdx.x];\n",
    "        \n",
    "        __syncthreads();\n",
    "        \n",
    "        if (0 == threadIdx.x){ \n",
    "          int sum = 0;\n",
    "            for (int i = 0; i < N; i++){sum += temp[i];}\n",
    "        }\n",
    "    }\n",
    "    \"\"\")\n",
    "\n",
    "prog = mod.get_function(\"mult\")\n",
    "\n",
    "prog(a_gpu, b_gpu,c_gpu,block=blockDim, grid=gridDim)\n",
    "\n",
    "\n",
    "print(c_gpu.get())"
   ]
  }
 ],
 "metadata": {
  "kernelspec": {
   "display_name": "Python 3",
   "language": "python",
   "name": "python3"
  },
  "language_info": {
   "codemirror_mode": {
    "name": "ipython",
    "version": 3
   },
   "file_extension": ".py",
   "mimetype": "text/x-python",
   "name": "python",
   "nbconvert_exporter": "python",
   "pygments_lexer": "ipython3",
   "version": "3.7.3"
  }
 },
 "nbformat": 4,
 "nbformat_minor": 4
}
