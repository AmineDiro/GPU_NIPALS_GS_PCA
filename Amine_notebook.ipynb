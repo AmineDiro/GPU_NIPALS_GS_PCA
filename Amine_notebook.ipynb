{
 "cells": [
  {
   "cell_type": "code",
   "execution_count": 1,
   "metadata": {},
   "outputs": [
    {
     "name": "stdout",
     "output_type": "stream",
     "text": [
      "[-0.3413977  -0.8673736  -1.2212161   0.23201346 -0.5023408  -1.8088138\n",
      " -0.42164916  0.98606944  1.9341152  -0.88601536  2.763887   -0.35668355\n",
      "  0.4176522   2.3436553  -1.8039987  -2.0589917   0.11854816 -1.07535\n",
      " -0.28461075  1.9238496   0.8710293  -0.8657713  -1.610158    1.1943884\n",
      " -2.1967857  -0.2109611  -1.2932683   1.900486   -0.27927312  2.358869\n",
      " -1.2632034  -2.1440766  -2.8227894  -1.1362706  -0.64406896 -2.1547725\n",
      " -2.1537743   1.0122833  -0.35201728 -0.6632788   0.9504212   0.2854757\n",
      " -0.36270833 -0.26427156  0.4764403  -0.14816986  0.52196574  1.2513584\n",
      " -1.9866517   1.4798868   0.54385275  1.9297974   1.7525442   0.23280084\n",
      " -1.3959584  -1.9868478  -1.0130639   1.530908   -1.6170661   0.56127596\n",
      "  0.3032242   0.29318982 -2.6221852  -1.2955086   0.2475099   0.04702878\n",
      "  0.925992   -0.8719675   2.1406407   0.2980359  -0.58425075  0.16605598\n",
      "  0.32950097 -0.4070064   0.02167684 -1.7539539   0.5561815   1.2282352\n",
      " -0.5605154   0.07263827  2.9388661  -0.01647425 -0.03634399 -0.98353475\n",
      " -0.83752084  3.005878   -0.40893877 -1.6711997   2.7824025   1.0082306\n",
      "  0.42868078 -0.5796498  -1.6972494   0.03890854  2.8454537  -1.3247638\n",
      "  1.4949977   0.48961756  0.40572304 -1.0957041 ]\n"
     ]
    }
   ],
   "source": [
    "import pycuda.driver as cuda\n",
    "import pycuda.autoinit\n",
    "from pycuda.compiler import SourceModule\n",
    "import pycuda.gpuarray as gpuarray\n",
    "\n",
    "import numpy as np\n",
    "\n",
    "\n",
    "N=100\n",
    "BLOCKSIZE = 256\n",
    "\n",
    "\n",
    "blockDim  = (BLOCKSIZE, 1, 1)\n",
    "gridDim   = (N// BLOCKSIZE +1, 1, 1)\n",
    "\n",
    "\n",
    "a = np.random.randn(N).astype(np.float32)\n",
    "b = np.random.randn(N).astype(np.float32)\n",
    "c = np.zeros(N).astype(np.float32)\n",
    "\n",
    "a_gpu = gpuarray.to_gpu(a)\n",
    "b_gpu = gpuarray.to_gpu(b)\n",
    "c_gpu = gpuarray.to_gpu(c)\n",
    "\n",
    "\n",
    "mod = SourceModule(\"\"\"\n",
    "  __global__ void add(float *a,float *b, float *c, int N)\n",
    "  {\n",
    "    int idx = threadIdx.x + blockIdx.x * blockDim.x;\n",
    "    if(idx < N)\n",
    "      c[idx] = a[idx] + b[idx];\n",
    "  }\n",
    "  \"\"\")\n",
    "prog = mod.get_function(\"add\")\n",
    "\n",
    "prog(a_gpu, b_gpu,c_gpu, np.uint32(N),block=blockDim,grid=gridDim)\n",
    "\n",
    "print(c_gpu.get())"
   ]
  },
  {
   "cell_type": "code",
   "execution_count": null,
   "metadata": {},
   "outputs": [],
   "source": []
  }
 ],
 "metadata": {
  "kernelspec": {
   "display_name": "Environment (conda_python3)",
   "language": "python",
   "name": "conda_python3"
  },
  "language_info": {
   "codemirror_mode": {
    "name": "ipython",
    "version": 3
   },
   "file_extension": ".py",
   "mimetype": "text/x-python",
   "name": "python",
   "nbconvert_exporter": "python",
   "pygments_lexer": "ipython3",
   "version": "3.6.10"
  }
 },
 "nbformat": 4,
 "nbformat_minor": 4
}
